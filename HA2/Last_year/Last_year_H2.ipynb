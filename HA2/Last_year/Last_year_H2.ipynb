{
 "cells": [
  {
   "cell_type": "markdown",
   "id": "1a5559bb-95e9-4c1d-a746-20fa936ef518",
   "metadata": {},
   "source": [
    "# Problem 1\n"
   ]
  },
  {
   "cell_type": "code",
   "execution_count": 1,
   "id": "286040a9-03c2-483e-9fb1-de264ad12405",
   "metadata": {},
   "outputs": [
    {
     "name": "stderr",
     "output_type": "stream",
     "text": [
      "Loading required package: xts\n",
      "\n",
      "Loading required package: zoo\n",
      "\n",
      "\n",
      "Attaching package: 'zoo'\n",
      "\n",
      "\n",
      "The following objects are masked from 'package:base':\n",
      "\n",
      "    as.Date, as.Date.numeric\n",
      "\n",
      "\n",
      "\n",
      "################################### WARNING ###################################\n",
      "# We noticed you have dplyr installed. The dplyr lag() function breaks how    #\n",
      "# base R's lag() function is supposed to work, which breaks lag(my_xts).      #\n",
      "#                                                                             #\n",
      "# If you call library(dplyr) later in this session, then calls to lag(my_xts) #\n",
      "# that you enter or source() into this session won't work correctly.          #\n",
      "#                                                                             #\n",
      "# All package code is unaffected because it is protected by the R namespace   #\n",
      "# mechanism.                                                                  #\n",
      "#                                                                             #\n",
      "# Set `options(xts.warn_dplyr_breaks_lag = FALSE)` to suppress this warning.  #\n",
      "#                                                                             #\n",
      "# You can use stats::lag() to make sure you're not using dplyr::lag(), or you #\n",
      "# can add conflictRules('dplyr', exclude = 'lag') to your .Rprofile to stop   #\n",
      "# dplyr from breaking base R's lag() function.                                #\n",
      "################################### WARNING ###################################\n",
      "\n",
      "Loading required package: TTR\n",
      "\n",
      "Registered S3 method overwritten by 'quantmod':\n",
      "  method            from\n",
      "  as.zoo.data.frame zoo \n",
      "\n",
      "Loading required package: parallel\n",
      "\n",
      "\n",
      "Attaching package: 'rugarch'\n",
      "\n",
      "\n",
      "The following object is masked from 'package:stats':\n",
      "\n",
      "    sigma\n",
      "\n",
      "\n",
      "NOTE: Packages 'fBasics', 'timeDate', and 'timeSeries' are no longer\n",
      "attached to the search() path when 'fGarch' is attached.\n",
      "\n",
      "If needed attach them yourself in your R script by e.g.,\n",
      "        require(\"timeSeries\")\n",
      "\n",
      "\n",
      "Attaching package: 'fGarch'\n",
      "\n",
      "\n",
      "The following object is masked from 'package:TTR':\n",
      "\n",
      "    volatility\n",
      "\n",
      "\n"
     ]
    }
   ],
   "source": [
    "library(quantmod)\n",
    "library(rugarch)\n",
    "library(ggplot2)\n",
    "library(fGarch)\n",
    "library(tseries)\n",
    "library(forecast)"
   ]
  },
  {
   "cell_type": "code",
   "execution_count": 2,
   "id": "01fbd026-5ce1-4eca-97d0-c36e3b155912",
   "metadata": {},
   "outputs": [],
   "source": [
    "set.seed(32480239)\n"
   ]
  },
  {
   "cell_type": "code",
   "execution_count": 3,
   "id": "7dc39454-eed4-4d93-ab17-d6a563387ed8",
   "metadata": {},
   "outputs": [
    {
     "data": {
      "text/html": [
       "<table class=\"dataframe\">\n",
       "<caption>A data.frame: 6 × 4</caption>\n",
       "<thead>\n",
       "\t<tr><th></th><th scope=col>X</th><th scope=col>Symbol</th><th scope=col>Name</th><th scope=col>Sector</th></tr>\n",
       "\t<tr><th></th><th scope=col>&lt;int&gt;</th><th scope=col>&lt;chr&gt;</th><th scope=col>&lt;chr&gt;</th><th scope=col>&lt;chr&gt;</th></tr>\n",
       "</thead>\n",
       "<tbody>\n",
       "\t<tr><th scope=row>1</th><td>1</td><td>MMM </td><td>3M Co.                       </td><td>Industrials           </td></tr>\n",
       "\t<tr><th scope=row>2</th><td>2</td><td>ACE </td><td>ACE Limited                  </td><td>Financials            </td></tr>\n",
       "\t<tr><th scope=row>3</th><td>3</td><td>ABT </td><td>Abbott Laboratories          </td><td>Health Care           </td></tr>\n",
       "\t<tr><th scope=row>4</th><td>4</td><td>ANF </td><td>Abercrombie &amp; Fitch Company A</td><td>Consumer Discretionary</td></tr>\n",
       "\t<tr><th scope=row>5</th><td>5</td><td>ACN </td><td>Accenture                    </td><td>Information Technology</td></tr>\n",
       "\t<tr><th scope=row>6</th><td>6</td><td>ADBE</td><td>Adobe Systems Inc            </td><td>Information Technology</td></tr>\n",
       "</tbody>\n",
       "</table>\n"
      ],
      "text/latex": [
       "A data.frame: 6 × 4\n",
       "\\begin{tabular}{r|llll}\n",
       "  & X & Symbol & Name & Sector\\\\\n",
       "  & <int> & <chr> & <chr> & <chr>\\\\\n",
       "\\hline\n",
       "\t1 & 1 & MMM  & 3M Co.                        & Industrials           \\\\\n",
       "\t2 & 2 & ACE  & ACE Limited                   & Financials            \\\\\n",
       "\t3 & 3 & ABT  & Abbott Laboratories           & Health Care           \\\\\n",
       "\t4 & 4 & ANF  & Abercrombie \\& Fitch Company A & Consumer Discretionary\\\\\n",
       "\t5 & 5 & ACN  & Accenture                     & Information Technology\\\\\n",
       "\t6 & 6 & ADBE & Adobe Systems Inc             & Information Technology\\\\\n",
       "\\end{tabular}\n"
      ],
      "text/markdown": [
       "\n",
       "A data.frame: 6 × 4\n",
       "\n",
       "| <!--/--> | X &lt;int&gt; | Symbol &lt;chr&gt; | Name &lt;chr&gt; | Sector &lt;chr&gt; |\n",
       "|---|---|---|---|---|\n",
       "| 1 | 1 | MMM  | 3M Co.                        | Industrials            |\n",
       "| 2 | 2 | ACE  | ACE Limited                   | Financials             |\n",
       "| 3 | 3 | ABT  | Abbott Laboratories           | Health Care            |\n",
       "| 4 | 4 | ANF  | Abercrombie &amp; Fitch Company A | Consumer Discretionary |\n",
       "| 5 | 5 | ACN  | Accenture                     | Information Technology |\n",
       "| 6 | 6 | ADBE | Adobe Systems Inc             | Information Technology |\n",
       "\n"
      ],
      "text/plain": [
       "  X Symbol Name                          Sector                \n",
       "1 1 MMM    3M Co.                        Industrials           \n",
       "2 2 ACE    ACE Limited                   Financials            \n",
       "3 3 ABT    Abbott Laboratories           Health Care           \n",
       "4 4 ANF    Abercrombie & Fitch Company A Consumer Discretionary\n",
       "5 5 ACN    Accenture                     Information Technology\n",
       "6 6 ADBE   Adobe Systems Inc             Information Technology"
      ]
     },
     "metadata": {},
     "output_type": "display_data"
    }
   ],
   "source": [
    "#symbols <- read.csv('C:/Users/Uzivatel/Documents/New_component/IES/2022_2023/Financial_econometrics_I/Homework2/symbols2.csv')\n",
    "head(symbols)"
   ]
  },
  {
   "cell_type": "code",
   "execution_count": 4,
   "id": "58dc95f7-5bbf-4944-8140-6c05521ddd6e",
   "metadata": {},
   "outputs": [
    {
     "name": "stderr",
     "output_type": "stream",
     "text": [
      "Warning message:\n",
      "\"PBCT download failed; trying again.\"\n",
      "Warning message:\n",
      "\"BHI download failed; trying again.\"\n",
      "Warning message:\n",
      "\"DISCA download failed; trying again.\"\n",
      "Warning message:\n",
      "\"BMS download failed; trying again.\"\n"
     ]
    }
   ],
   "source": [
    "# Generate 100 random integers between 1 and 377\n",
    "random_nums <- sample(1:377, 100)\n",
    "\n",
    "# Select Tickers from rows with indices equal to the random numbers generated\n",
    "tickers <- symbols[random_nums, \"Symbol\"]\n",
    "# Download stock prices for tickers for the period 07/2019 - 07/2022\n",
    "start_date <- as.Date(\"2019-06-28\")\n",
    "end_date <- as.Date(\"2022-07-01\")\n",
    "\n",
    "prices <- lapply(tickers, function(ticker) {\n",
    "  tryCatch(\n",
    "    # Try to download the stock prices using quantmod package\n",
    "    getSymbols(ticker, from = start_date, to = end_date, auto.assign = FALSE),\n",
    "    error = function(e) {\n",
    "      # If there is an error, return NULL instead of the prices\n",
    "      NULL\n",
    "    }\n",
    "  )\n",
    "})"
   ]
  },
  {
   "cell_type": "code",
   "execution_count": 5,
   "id": "3f7e8688-02d3-4a24-9fa9-c51e637f8fed",
   "metadata": {},
   "outputs": [],
   "source": [
    "# Remove NULL elements from prices list (i.e. tickers that weren't found in quantmod)\n",
    "prices <- prices[!sapply(prices, is.null)]\n",
    "\n",
    "# Extract the Close prices of each stock and combine into a single data frame\n",
    "prices_df <- do.call(merge, lapply(prices, Cl))\n",
    "\n",
    "# Get the tickers that were successfully downloaded\n",
    "downloaded_tickers <- names(prices)\n",
    "\n",
    "# Remove the \".Close\" suffix from the downloaded tickers\n",
    "downloaded_tickers <- gsub(\"\\\\.Close\", \"\", downloaded_tickers)\n",
    "\n",
    "# Set the column names of the data frame to the downloaded ticker names without the \".Close\" suffix\n",
    "colnames(prices_df) <- downloaded_tickers"
   ]
  },
  {
   "cell_type": "markdown",
   "id": "b5dbc8b3-180c-4cb7-95da-ef19716c3461",
   "metadata": {},
   "source": [
    "### Problem 1.1"
   ]
  },
  {
   "cell_type": "code",
   "execution_count": 6,
   "id": "92c4856a-c21b-4d6d-8230-e54b1dd1a718",
   "metadata": {},
   "outputs": [],
   "source": [
    "log_returns<- diff(log(prices_df))\n",
    "log_returns<-na.omit(log_returns)"
   ]
  },
  {
   "cell_type": "markdown",
   "id": "3e58f7ca-d68e-4e9c-9bfd-86397de1fc31",
   "metadata": {},
   "source": [
    "### Problem 1.2"
   ]
  },
  {
   "cell_type": "code",
   "execution_count": 7,
   "id": "6d508d2d-934a-4028-b6aa-02c9d1b9310c",
   "metadata": {},
   "outputs": [],
   "source": [
    "# Set the specification for the GARCH(1,1) model\n",
    "spec <- ugarchspec(variance.model = list(model = \"sGARCH\", garchOrder = c(1, 1)), \n",
    "                   mean.model = list(armaOrder = c(0,0), include.mean = TRUE), \n",
    "                   distribution.model = \"norm\")\n",
    "\n",
    "# Estimate the parameters of the GARCH(1,1) model for each stock\n",
    "garch_models <- lapply(prices_df, function(x) {\n",
    "  tryCatch(\n",
    "    # Try to estimate the GARCH(1,1) model\n",
    "    ugarchfit(spec = spec, data = x, solver = \"hybrid\"),\n",
    "    error = function(e) {\n",
    "      # If there is an error, return NULL instead of the model\n",
    "      NULL\n",
    "    }\n",
    "  )\n",
    "})\n"
   ]
  },
  {
   "cell_type": "code",
   "execution_count": 8,
   "id": "d145cf3c-dd27-46bc-bc96-a64eb107a014",
   "metadata": {},
   "outputs": [],
   "source": [
    "# Remove NULL elements from garch_models list (i.e. stocks for which the model could not be estimated)\n",
    "garch_models <- garch_models[!sapply(garch_models, is.null)]"
   ]
  },
  {
   "cell_type": "markdown",
   "id": "c74bb1ed-869c-47ce-912d-0e026201998c",
   "metadata": {},
   "source": [
    "### Problem 1.3"
   ]
  },
  {
   "cell_type": "code",
   "execution_count": 9,
   "id": "a225a7ff-5878-4a51-b8df-af740169e8ab",
   "metadata": {},
   "outputs": [],
   "source": [
    "# Extract alpha1, beta1, and alpha1+beta1 coefficients from each model\n",
    "alpha1 <- sapply(garch_models, function(model) coef(model)[\"alpha1\"])\n",
    "beta1 <- sapply(garch_models, function(model) coef(model)[\"beta1\"])\n",
    "alpha1_beta1 <- alpha1 + beta1"
   ]
  },
  {
   "cell_type": "code",
   "execution_count": 10,
   "id": "1e95a39b-a791-4540-9031-608443c5f3be",
   "metadata": {},
   "outputs": [
    {
     "data": {
      "image/png": "[encoded data removed]",
      "text/plain": [
       "plot without title"
      ]
     },
     "metadata": {
      "image/png": {
       "height": 420,
       "width": 420
      }
     },
     "output_type": "display_data"
    }
   ],
   "source": [
    "# Combine coefficients into a data frame\n",
    "coeff_df <- data.frame(alpha1, beta1, alpha1_beta1)\n",
    "\n",
    "# Plot histograms of coefficients\n",
    "ggplot(data = coeff_df) +\n",
    "  geom_histogram(aes(x = alpha1), binwidth = 0.05, fill = \"blue\", alpha = 0.5) +\n",
    "  geom_histogram(aes(x = beta1), binwidth = 0.05, fill = \"green\", alpha = 0.5) +\n",
    "  geom_histogram(aes(x = alpha1_beta1), binwidth = 0.05, fill = \"red\", alpha = 0.5) +\n",
    "  xlab(\"Coefficient value\") +\n",
    "  ylab(\"Frequency\") +\n",
    "  ggtitle(\"Histogram of GARCH(1,1) coefficients\") +\n",
    "  theme_classic()"
   ]
  },
  {
   "cell_type": "markdown",
   "id": "bb6ee162-72cb-4704-90fb-f256880333a0",
   "metadata": {},
   "source": [
    "### Problem 1.4"
   ]
  },
  {
   "cell_type": "code",
   "execution_count": 11,
   "id": "923b837f-fde9-43ff-ac80-c13f3578f2de",
   "metadata": {},
   "outputs": [],
   "source": [
    "# Find minimum and maximum values\n",
    "min_alpha1 <- min(alpha1)\n",
    "max_alpha1 <- max(alpha1)\n",
    "\n",
    "min_beta1 <- min(beta1)\n",
    "max_beta1 <- max(beta1)\n",
    "\n",
    "min_alpha1_plus_beta1 <- min(alpha1_plus_beta1)\n",
    "max_alpha1_plus_beta1 <- max(alpha1_plus_beta1)"
   ]
  },
  {
   "cell_type": "code",
   "execution_count": 12,
   "id": "5b4789e6-c8b9-410d-acae-c9433073d525",
   "metadata": {},
   "outputs": [
    {
     "name": "stdout",
     "output_type": "stream",
     "text": [
      "[1] 0.5675347\n",
      "[1] 0.9989999\n",
      "[1] 1.237547e-09\n",
      "[1] 0.4314652\n",
      "[1] 0.9632815\n",
      "[1] 0.999\n"
     ]
    }
   ],
   "source": [
    "print(min_alpha1)\n",
    "print(max_alpha1)\n",
    "\n",
    "print(min_beta1)\n",
    "print(max_beta1)\n",
    "\n",
    "print(min_alpha1_plus_beta1)\n",
    "print(max_alpha1_plus_beta1)"
   ]
  },
  {
   "cell_type": "markdown",
   "id": "7af461f5-66b0-4403-b966-3773e3de4ac3",
   "metadata": {},
   "source": [
    "### Problem 1.5"
   ]
  },
  {
   "cell_type": "code",
   "execution_count": null,
   "id": "0a41a550-4bc7-4ac8-827b-a6a655558be6",
   "metadata": {},
   "outputs": [],
   "source": [
    "# Calculate daily GARCH volatility for cross-section of 96 stocks\n",
    "volatility <- apply(log_returns, 1, function(x) {\n",
    "  model <- garchFit(formula = ~ garch(1,1), data = x, trace = F)\n",
    "  predict(model, n.ahead = 1)$standardDeviation\n",
    "})\n",
    "\n",
    "# Obtain median and quantiles of market volatility\n",
    "volatility_median <- median(volatility)\n",
    "volatility_5quantile <- quantile(volatility, 0.05)\n",
    "volatility_95quantile <- quantile(volatility, 0.95)"
   ]
  },
  {
   "cell_type": "code",
   "execution_count": 14,
   "id": "11c97398-6464-4a97-a7a0-0ca87c5c7079",
   "metadata": {},
   "outputs": [
    {
     "data": {
      "image/png": "[encoded data removed]",
      "text/plain": [
       "plot without title"
      ]
     },
     "metadata": {
      "image/png": {
       "height": 420,
       "width": 420
      }
     },
     "output_type": "display_data"
    }
   ],
   "source": [
    "# Create figure of median and quantiles of market volatility\n",
    "plot(1:length(volatility), volatility, type = \"l\", ylab = \"Market Volatility\")\n",
    "abline(h = volatility_median, col = \"red\", lty = 2)\n",
    "abline(h = volatility_5quantile, col = \"blue\", lty = 2)\n",
    "abline(h = volatility_95quantile, col = \"green\", lty = 2)\n",
    "legend(\"topright\", legend = c(\"Median\", \"5% Quantile\", \"95% Quantile\"), col = c(\"red\", \"blue\", \"green\"), lty = 2)\n"
   ]
  },
  {
   "cell_type": "markdown",
   "id": "ad2d89b4-1f85-46d0-8677-b5c2e8417fbb",
   "metadata": {},
   "source": [
    "# Problem 2"
   ]
  },
  {
   "cell_type": "code",
   "execution_count": 15,
   "id": "fd1154bd-4e39-4608-a26e-5153bbba9efc",
   "metadata": {},
   "outputs": [
    {
     "data": {
      "text/html": [
       "757"
      ],
      "text/latex": [
       "757"
      ],
      "text/markdown": [
       "757"
      ],
      "text/plain": [
       "[1] 757"
      ]
     },
     "metadata": {},
     "output_type": "display_data"
    },
    {
     "data": {
      "image/png": "[encoded data removed]",
      "text/plain": [
       "plot without title"
      ]
     },
     "metadata": {
      "image/png": {
       "height": 420,
       "width": 420
      }
     },
     "output_type": "display_data"
    }
   ],
   "source": [
    "dim(log_returns)[1]\n",
    "T <- dim(log_returns)[1]\n",
    "means <- sapply(1:T, function(y){\n",
    "  mean(sapply(log_returns, '[[', y)) \n",
    "})\n",
    "plot(means, type = 'l')"
   ]
  },
  {
   "cell_type": "code",
   "execution_count": 16,
   "id": "8af1adcd-ce8b-4117-991a-a251fe72c829",
   "metadata": {},
   "outputs": [
    {
     "name": "stderr",
     "output_type": "stream",
     "text": [
      "Warning message in adf.test(means):\n",
      "\"p-value smaller than printed p-value\"\n"
     ]
    },
    {
     "data": {
      "text/plain": [
       "\n",
       "\tAugmented Dickey-Fuller Test\n",
       "\n",
       "data:  means\n",
       "Dickey-Fuller = -7.7259, Lag order = 9, p-value = 0.01\n",
       "alternative hypothesis: stationary\n"
      ]
     },
     "metadata": {},
     "output_type": "display_data"
    }
   ],
   "source": [
    "#test for stationarity\n",
    "adf.test(means)"
   ]
  },
  {
   "cell_type": "markdown",
   "id": "bfed491a-0e0f-4d22-b6ae-4c6757a57cc9",
   "metadata": {},
   "source": [
    "We can reject non-stationarity at 1% level. Therefore series is very likely stationary."
   ]
  },
  {
   "cell_type": "code",
   "execution_count": 17,
   "id": "4b1679f4-0824-4c4f-a185-ca8a6bc13a2d",
   "metadata": {},
   "outputs": [
    {
     "data": {
      "image/png": "[encoded data removed]",
      "text/plain": [
       "Plot with title \"Series  means\""
      ]
     },
     "metadata": {
      "image/png": {
       "height": 480,
       "width": 720
      }
     },
     "output_type": "display_data"
    }
   ],
   "source": [
    "options(repr.plot.width=12, repr.plot.height=8)\n",
    "par(mfrow = c(1, 2))\n",
    "acf(means)\n",
    "pacf(means)"
   ]
  },
  {
   "cell_type": "markdown",
   "id": "fdab67ee-d38d-43be-9674-c5d816533f0d",
   "metadata": {},
   "source": [
    "After considering autocorrelation function and partial autocorrelation function we choose ARMA(1,2), ARMA(2,2), ARMA(4,2) and ARMA(2,4). In both, PACF and ACF, even lags of higher orders are significant, however the corresponding models would be very complicated, what is against idea of parsimony. We can check the models of higher orders if none of our four models would be appropriate."
   ]
  },
  {
   "cell_type": "markdown",
   "id": "a6dd31a7-fc2b-4ca5-8fb3-1d28bce74ac1",
   "metadata": {},
   "source": [
    "For easier manipulation we call these models ARMA1, ARMA2, ARMA3 and ARMA4."
   ]
  },
  {
   "cell_type": "code",
   "execution_count": 18,
   "id": "7d95bc9e-eb16-4ccd-9271-847d91f49b04",
   "metadata": {},
   "outputs": [
    {
     "data": {
      "text/plain": [
       "Series: means \n",
       "ARIMA(1,0,2) with non-zero mean \n",
       "\n",
       "Coefficients:\n",
       "          ar1     ma1     ma2   mean\n",
       "      -0.2705  0.1567  0.1600  2e-04\n",
       "s.e.   0.1542  0.1524  0.0405  6e-04\n",
       "\n",
       "sigma^2 = 0.000288:  log likelihood = 2013.58\n",
       "AIC=-4017.16   AICc=-4017.08   BIC=-3994.01\n",
       "\n",
       "Training set error measures:\n",
       "                       ME       RMSE        MAE      MPE     MAPE      MASE\n",
       "Training set 9.156938e-06 0.01692541 0.01084057 44.13534 180.6209 0.6891997\n",
       "                    ACF1\n",
       "Training set -0.00262106"
      ]
     },
     "metadata": {},
     "output_type": "display_data"
    },
    {
     "data": {
      "text/plain": [
       "Series: means \n",
       "ARIMA(2,0,2) with non-zero mean \n",
       "\n",
       "Coefficients:\n",
       "          ar1      ar2     ma1     ma2   mean\n",
       "      -1.7316  -0.8799  1.6048  0.7251  2e-04\n",
       "s.e.   0.0329   0.0348  0.0461  0.0474  6e-04\n",
       "\n",
       "sigma^2 = 0.0002712:  log likelihood = 2036.62\n",
       "AIC=-4061.24   AICc=-4061.13   BIC=-4033.46\n",
       "\n",
       "Training set error measures:\n",
       "                     ME       RMSE        MAE      MPE     MAPE      MASE\n",
       "Training set 1.4629e-07 0.01641369 0.01073787 101.7156 169.2772 0.6826706\n",
       "                  ACF1\n",
       "Training set 0.0808404"
      ]
     },
     "metadata": {},
     "output_type": "display_data"
    },
    {
     "data": {
      "text/plain": [
       "Series: means \n",
       "ARIMA(4,0,2) with non-zero mean \n",
       "\n",
       "Coefficients:\n",
       "          ar1      ar2     ar3      ar4     ma1     ma2   mean\n",
       "      -1.4674  -0.5111  0.1223  -0.0315  1.4228  0.5647  2e-04\n",
       "s.e.   0.1127   0.1278  0.0681   0.0518  0.1072  0.1047  6e-04\n",
       "\n",
       "sigma^2 = 0.0002677:  log likelihood = 2042.5\n",
       "AIC=-4068.99   AICc=-4068.8   BIC=-4031.96\n",
       "\n",
       "Training set error measures:\n",
       "                        ME       RMSE        MAE      MPE     MAPE      MASE\n",
       "Training set -1.101111e-08 0.01628582 0.01079321 98.09503 196.6061 0.6861893\n",
       "                     ACF1\n",
       "Training set 0.0001754987"
      ]
     },
     "metadata": {},
     "output_type": "display_data"
    },
    {
     "data": {
      "text/plain": [
       "Series: means \n",
       "ARIMA(2,0,4) with non-zero mean \n",
       "\n",
       "Coefficients:\n",
       "          ar1      ar2     ma1     ma2     ma3      ma4   mean\n",
       "      -1.6756  -0.8369  1.6335  0.8743  0.1082  -0.0197  2e-04\n",
       "s.e.   0.0461   0.0466  0.0574  0.0823  0.0748   0.0453  6e-04\n",
       "\n",
       "sigma^2 = 0.0002675:  log likelihood = 2042.71\n",
       "AIC=-4069.41   AICc=-4069.22   BIC=-4032.38\n",
       "\n",
       "Training set error measures:\n",
       "                       ME       RMSE        MAE      MPE     MAPE      MASE\n",
       "Training set 1.950884e-06 0.01628115 0.01078061 99.36849 196.5483 0.6853882\n",
       "                     ACF1\n",
       "Training set -0.000988103"
      ]
     },
     "metadata": {},
     "output_type": "display_data"
    }
   ],
   "source": [
    "ARMA1 <- Arima(means, order = c(1, 0, 2))\n",
    "summary(ARMA1)\n",
    "ARMA2 <- Arima(means, order = c(2, 0, 2))\n",
    "summary(ARMA2)\n",
    "ARMA3 <- Arima(means, order = c(4, 0, 2))\n",
    "summary(ARMA3)\n",
    "ARMA4 <- Arima(means, order = c(2, 0, 4))\n",
    "summary(ARMA4)"
   ]
  },
  {
   "cell_type": "code",
   "execution_count": 19,
   "id": "c4983ec3-2673-4316-ac88-3688111c6128",
   "metadata": {},
   "outputs": [
    {
     "data": {
      "image/png": "[encoded data removed]",
      "text/plain": [
       "Plot with title \"ACF and PACF of ARMA1 residuals\""
      ]
     },
     "metadata": {
      "image/png": {
       "height": 480,
       "width": 720
      }
     },
     "output_type": "display_data"
    },
    {
     "data": {
      "image/png": "[encoded data removed]",
      "text/plain": [
       "Plot with title \"ACF and PACF of ARMA2 residuals\""
      ]
     },
     "metadata": {
      "image/png": {
       "height": 480,
       "width": 720
      }
     },
     "output_type": "display_data"
    },
    {
     "data": {
      "image/png": "[encoded data removed]",
      "text/plain": [
       "Plot with title \"ACF and PACF of ARMA3 residuals\""
      ]
     },
     "metadata": {
      "image/png": {
       "height": 480,
       "width": 720
      }
     },
     "output_type": "display_data"
    },
    {
     "data": {
      "image/png": "[encoded data removed]",
      "text/plain": [
       "Plot with title \"ACF and PACF of ARMA4 residuals\""
      ]
     },
     "metadata": {
      "image/png": {
       "height": 480,
       "width": 720
      }
     },
     "output_type": "display_data"
    }
   ],
   "source": [
    "par(mfrow = c(1,2))\n",
    "for (i in 1:4) {\n",
    "  model <- get(paste0(\"ARMA\", i))\n",
    "  plot_title <- paste0(\"ACF and PACF of \", paste0(\"ARMA\", i, \" residuals\"))\n",
    "  acf(model$residuals, main = plot_title)\n",
    "  pacf(model$residuals, main = plot_title)\n",
    "}"
   ]
  },
  {
   "cell_type": "markdown",
   "id": "01db2442-df41-4241-a180-d1aa87c6d3f1",
   "metadata": {},
   "source": [
    "In ACF and PACF of residuals there are no significant lags of orders lower than 5. However we should rule out AMRA(1,2) since there are considerbaly more significant lags than for other three models. For ARMA(2,2), ARMA(4,2) and ARMA(2,4) most of the lags became insignificant or are slightly above the treshold."
   ]
  },
  {
   "cell_type": "code",
   "execution_count": 20,
   "id": "9732d612-70c9-4d2d-a2af-2420955850e6",
   "metadata": {},
   "outputs": [
    {
     "name": "stdout",
     "output_type": "stream",
     "text": [
      "[1] \"ARMA1\"\n",
      "\n",
      "\tBox-Ljung test\n",
      "\n",
      "data:  model$residuals\n",
      "X-squared = 2.9522, df = 4, p-value = 0.5659\n",
      "\n",
      "\n",
      "\tBox-Ljung test\n",
      "\n",
      "data:  model$residuals\n",
      "X-squared = 51.009, df = 8, p-value = 2.614e-08\n",
      "\n",
      "\n",
      "\tBox-Ljung test\n",
      "\n",
      "data:  model$residuals\n",
      "X-squared = 63.4, df = 12, p-value = 5.379e-09\n",
      "\n",
      "[1] \"ARMA2\"\n",
      "\n",
      "\tBox-Ljung test\n",
      "\n",
      "data:  model$residuals\n",
      "X-squared = 9.4453, df = 4, p-value = 0.05088\n",
      "\n",
      "\n",
      "\tBox-Ljung test\n",
      "\n",
      "data:  model$residuals\n",
      "X-squared = 20.923, df = 8, p-value = 0.007354\n",
      "\n",
      "\n",
      "\tBox-Ljung test\n",
      "\n",
      "data:  model$residuals\n",
      "X-squared = 26.422, df = 12, p-value = 0.009351\n",
      "\n",
      "[1] \"ARMA3\"\n",
      "\n",
      "\tBox-Ljung test\n",
      "\n",
      "data:  model$residuals\n",
      "X-squared = 0.52234, df = 4, p-value = 0.9713\n",
      "\n",
      "\n",
      "\tBox-Ljung test\n",
      "\n",
      "data:  model$residuals\n",
      "X-squared = 10.652, df = 8, p-value = 0.2222\n",
      "\n",
      "\n",
      "\tBox-Ljung test\n",
      "\n",
      "data:  model$residuals\n",
      "X-squared = 14.041, df = 12, p-value = 0.2981\n",
      "\n",
      "[1] \"ARMA4\"\n",
      "\n",
      "\tBox-Ljung test\n",
      "\n",
      "data:  model$residuals\n",
      "X-squared = 1.0463, df = 4, p-value = 0.9027\n",
      "\n",
      "\n",
      "\tBox-Ljung test\n",
      "\n",
      "data:  model$residuals\n",
      "X-squared = 10.61, df = 8, p-value = 0.2248\n",
      "\n",
      "\n",
      "\tBox-Ljung test\n",
      "\n",
      "data:  model$residuals\n",
      "X-squared = 13.993, df = 12, p-value = 0.3011\n",
      "\n"
     ]
    }
   ],
   "source": [
    "for (i in 1:4) {\n",
    "    model <- get(paste0(\"ARMA\", i))\n",
    "    print(paste0(\"ARMA\", i))\n",
    "    print(Box.test(model$residuals, type = \"Ljung-Box\", lag = 4))\n",
    "    print(Box.test(model$residuals, type = \"Ljung-Box\", lag = 8))\n",
    "    print(Box.test(model$residuals, type = \"Ljung-Box\", lag = 12))\n",
    "}"
   ]
  },
  {
   "cell_type": "markdown",
   "id": "061eb2e7-b8ac-458a-bf4d-209a8719c2d0",
   "metadata": {},
   "source": [
    "The null hypothesis is joint insignificance of autocorrelation coefficients 1 to 4, 8, or 12. We reject join insignificance except for the cases of 8 and 12 lags for ARMA(1,2) and ARMA(2,2)"
   ]
  },
  {
   "cell_type": "markdown",
   "id": "455644bf-6a0c-4844-b0cc-0de572482d9c",
   "metadata": {},
   "source": [
    "Now we obtain AIC and BIC for all four models."
   ]
  },
  {
   "cell_type": "code",
   "execution_count": 21,
   "id": "9b64c869-fde2-4f0a-bc06-ac37d3b68c94",
   "metadata": {},
   "outputs": [
    {
     "data": {
      "text/html": [
       "<table class=\"dataframe\">\n",
       "<caption>A matrix: 4 × 2 of type dbl</caption>\n",
       "<thead>\n",
       "\t<tr><th></th><th scope=col>AIC</th><th scope=col>BIC</th></tr>\n",
       "</thead>\n",
       "<tbody>\n",
       "\t<tr><th scope=row>ARMA(1,2)</th><td>-4017.157</td><td>-3994.010</td></tr>\n",
       "\t<tr><th scope=row>ARMA(2,2)</th><td>-4061.241</td><td>-4033.464</td></tr>\n",
       "\t<tr><th scope=row>ARMA(4,2)</th><td>-4068.993</td><td>-4031.959</td></tr>\n",
       "\t<tr><th scope=row>ARMA(2,4)</th><td>-4069.412</td><td>-4032.377</td></tr>\n",
       "</tbody>\n",
       "</table>\n"
      ],
      "text/latex": [
       "A matrix: 4 × 2 of type dbl\n",
       "\\begin{tabular}{r|ll}\n",
       "  & AIC & BIC\\\\\n",
       "\\hline\n",
       "\tARMA(1,2) & -4017.157 & -3994.010\\\\\n",
       "\tARMA(2,2) & -4061.241 & -4033.464\\\\\n",
       "\tARMA(4,2) & -4068.993 & -4031.959\\\\\n",
       "\tARMA(2,4) & -4069.412 & -4032.377\\\\\n",
       "\\end{tabular}\n"
      ],
      "text/markdown": [
       "\n",
       "A matrix: 4 × 2 of type dbl\n",
       "\n",
       "| <!--/--> | AIC | BIC |\n",
       "|---|---|---|\n",
       "| ARMA(1,2) | -4017.157 | -3994.010 |\n",
       "| ARMA(2,2) | -4061.241 | -4033.464 |\n",
       "| ARMA(4,2) | -4068.993 | -4031.959 |\n",
       "| ARMA(2,4) | -4069.412 | -4032.377 |\n",
       "\n"
      ],
      "text/plain": [
       "          AIC       BIC      \n",
       "ARMA(1,2) -4017.157 -3994.010\n",
       "ARMA(2,2) -4061.241 -4033.464\n",
       "ARMA(4,2) -4068.993 -4031.959\n",
       "ARMA(2,4) -4069.412 -4032.377"
      ]
     },
     "metadata": {},
     "output_type": "display_data"
    }
   ],
   "source": [
    "models <- 4\n",
    "criteria <- matrix(ncol = 2, nrow = models)\n",
    "colnames(criteria) <- c('AIC', 'BIC')\n",
    "rownames(criteria) <- c('ARMA1', 'ARMA2','ARMA3','ARMA4')\n",
    "  \n",
    "criteria[1, 1] <- ARMA1$aic\n",
    "criteria[1, 2] <- ARMA1$bic\n",
    "criteria[2, 1] <- ARMA2$aic\n",
    "criteria[2, 2] <- ARMA2$bic\n",
    "criteria[3, 1] <- ARMA3$aic\n",
    "criteria[3, 2] <- ARMA3$bic\n",
    "criteria[4, 1] <- ARMA4$aic\n",
    "criteria[4, 2] <- ARMA4$bic\n",
    "rownames(criteria)<-c(\"ARMA(1,2)\", \"ARMA(2,2)\", \"ARMA(4,2)\", \"ARMA(2,4)\")\n",
    "criteria"
   ]
  },
  {
   "cell_type": "markdown",
   "id": "6d3224f4-697a-4347-bc1b-26818e717a8c",
   "metadata": {},
   "source": [
    "We can notice that ARMA(1,2) is by far the worst and there are only small differences between the three models.\n",
    "Other results are ambiguous. According to AIC we would choose ARMA(2,4), while with BIC ARMA(2,2). Recall that for ARMA(2,2) there was still unremoved depndence in the lags as we can see in results of Ljung-Box tests. However we should prefer parsimony, especially when the AIC and BIC values are so similar. Thus we would choose ARMA(2,2)."
   ]
  },
  {
   "cell_type": "code",
   "execution_count": 22,
   "id": "2b91a2c7-b278-46d8-b5ce-93b9cd9dace9",
   "metadata": {},
   "outputs": [
    {
     "data": {
      "text/plain": [
       "Series: means \n",
       "ARIMA(2,0,4) with zero mean \n",
       "\n",
       "Coefficients:\n",
       "          ar1      ar2     ma1     ma2     ma3      ma4\n",
       "      -1.6753  -0.8366  1.6334  0.8745  0.1088  -0.0194\n",
       "s.e.   0.0462   0.0466  0.0575  0.0824  0.0748   0.0453\n",
       "\n",
       "sigma^2 = 0.0002672:  log likelihood = 2042.67\n",
       "AIC=-4071.33   AICc=-4071.18   BIC=-4038.93"
      ]
     },
     "metadata": {},
     "output_type": "display_data"
    },
    {
     "data": {
      "text/plain": [
       "Series: means \n",
       "ARIMA(2,0,2) with zero mean \n",
       "\n",
       "Coefficients:\n",
       "          ar1      ar2     ma1     ma2\n",
       "      -1.7316  -0.8799  1.6050  0.7251\n",
       "s.e.   0.0329   0.0348  0.0461  0.0473\n",
       "\n",
       "sigma^2 = 0.0002709:  log likelihood = 2036.57\n",
       "AIC=-4063.14   AICc=-4063.06   BIC=-4039.99"
      ]
     },
     "metadata": {},
     "output_type": "display_data"
    }
   ],
   "source": [
    "auto.arima(means, ic = \"aic\")\n",
    "auto.arima(means, ic = \"bic\")"
   ]
  },
  {
   "cell_type": "markdown",
   "id": "75e6c5fd-5caf-48cd-b807-cf1749cf1ca7",
   "metadata": {},
   "source": [
    "We can check that auto.arima function chooses the same model according to AIC and BIC. "
   ]
  },
  {
   "cell_type": "code",
   "execution_count": 23,
   "id": "1d4dad79-74b6-42d7-853d-43d6f0a81a09",
   "metadata": {},
   "outputs": [
    {
     "data": {
      "image/png": "[encoded data removed]",
      "text/plain": [
       "Plot with title \"Histogram\""
      ]
     },
     "metadata": {
      "image/png": {
       "height": 480,
       "width": 720
      }
     },
     "output_type": "display_data"
    }
   ],
   "source": [
    " residuals2 <- ARMA2$residuals\n",
    "#normalize residuals \n",
    "    residuals2.norm <- residuals2/sqrt(ARMA2$sigma2)\n",
    "#Plot the histogram\n",
    "    hist(residuals2.norm, prob = TRUE, breaks=40, xlab = \"Normalized residuals\", main=\"Histogram\")\n",
    "    curve(dnorm(x, mean = 0, sd = 1), col=\"blue\", lwd=1, add=TRUE)"
   ]
  },
  {
   "cell_type": "code",
   "execution_count": 24,
   "id": "f8f4f631-bdcd-4784-b570-c5f99789fe79",
   "metadata": {},
   "outputs": [
    {
     "data": {
      "image/png": "[encoded data removed]",
      "text/plain": [
       "Plot with title \"Histogram\""
      ]
     },
     "metadata": {
      "image/png": {
       "height": 480,
       "width": 720
      }
     },
     "output_type": "display_data"
    }
   ],
   "source": [
    "residuals4 <- ARMA4$residuals\n",
    "#normalize residuals \n",
    "    residuals4.norm <- residuals4/sqrt(ARMA4$sigma2)\n",
    "#Plot the histogram\n",
    "    hist(residuals4.norm, prob = TRUE, breaks=40, xlab = \"Normalized residuals\", main=\"Histogram\")\n",
    "    curve(dnorm(x, mean = 0, sd = 1), col=\"blue\", lwd=1, add=TRUE)"
   ]
  },
  {
   "cell_type": "markdown",
   "id": "103e48d4-0bd4-47f9-a29d-0e98924925f1",
   "metadata": {},
   "source": [
    "The residuals of both models are not exactly normally distributed. Thus there should be ways how to improve our models, however it might require different tools than ARMA."
   ]
  }
 ],
 "metadata": {
  "kernelspec": {
   "display_name": "R",
   "language": "R",
   "name": "ir"
  },
  "language_info": {
   "codemirror_mode": "r",
   "file_extension": ".r",
   "mimetype": "text/x-r-source",
   "name": "R",
   "pygments_lexer": "r",
   "version": "4.1.3"
  }
 },
 "nbformat": 4,
 "nbformat_minor": 5
}
