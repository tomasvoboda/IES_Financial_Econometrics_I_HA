{
 "cells": [
  {
   "cell_type": "markdown",
   "id": "ddc1a1bd-e91e-44fc-9556-adcd8531fc19",
   "metadata": {},
   "source": [
    "# Financial Econometrics: Homework 2\n",
    "#### Kryštof Veřtát, Tomáš Svoboda"
   ]
  },
  {
   "cell_type": "markdown",
   "id": "e92ac8cd-2fa9-4a20-a4ba-46c6e77c0e03",
   "metadata": {},
   "source": [
    "## Problem 1"
   ]
  },
  {
   "cell_type": "markdown",
   "id": "6f3cdb08-a1b0-4f9d-b7c4-2b3f11bd9b0f",
   "metadata": {},
   "source": [
    "### Part 1"
   ]
  },
  {
   "cell_type": "code",
   "execution_count": 1,
   "id": "b960cdd9-8f79-428c-8078-4070e47c9d3a",
   "metadata": {
    "vscode": {
     "languageId": "r"
    }
   },
   "outputs": [
    {
     "name": "stderr",
     "output_type": "stream",
     "text": [
      "Warning message:\n",
      "\"package 'fGarch' was built under R version 4.3.3\"\n",
      "NOTE: Packages 'fBasics', 'timeDate', and 'timeSeries' are no longer\n",
      "attached to the search() path when 'fGarch' is attached.\n",
      "\n",
      "If needed attach them yourself in your R script by e.g.,\n",
      "        require(\"timeSeries\")\n",
      "\n",
      "Warning message:\n",
      "\"package 'forecast' was built under R version 4.3.3\"\n",
      "Registered S3 method overwritten by 'quantmod':\n",
      "  method            from\n",
      "  as.zoo.data.frame zoo \n",
      "\n",
      "\n",
      "Attaching package: 'aTSA'\n",
      "\n",
      "\n",
      "The following object is masked from 'package:forecast':\n",
      "\n",
      "    forecast\n",
      "\n",
      "\n",
      "The following object is masked from 'package:graphics':\n",
      "\n",
      "    identify\n",
      "\n",
      "\n",
      "Warning message:\n",
      "\"package 'rugarch' was built under R version 4.3.3\"\n",
      "Loading required package: parallel\n",
      "\n",
      "\n",
      "Attaching package: 'rugarch'\n",
      "\n",
      "\n",
      "The following object is masked from 'package:stats':\n",
      "\n",
      "    sigma\n",
      "\n",
      "\n",
      "Warning message:\n",
      "\"package 'tseries' was built under R version 4.3.3\"\n",
      "\n",
      "Attaching package: 'tseries'\n",
      "\n",
      "\n",
      "The following objects are masked from 'package:aTSA':\n",
      "\n",
      "    adf.test, kpss.test, pp.test\n",
      "\n",
      "\n",
      "Warning message:\n",
      "\"package 'fDMA' was built under R version 4.3.3\"\n",
      "Loading required package: xts\n",
      "\n",
      "Loading required package: zoo\n",
      "\n",
      "\n",
      "Attaching package: 'zoo'\n",
      "\n",
      "\n",
      "The following objects are masked from 'package:base':\n",
      "\n",
      "    as.Date, as.Date.numeric\n",
      "\n",
      "\n",
      "Loading required package: TTR\n",
      "\n",
      "\n",
      "Attaching package: 'TTR'\n",
      "\n",
      "\n",
      "The following object is masked from 'package:fGarch':\n",
      "\n",
      "    volatility\n",
      "\n",
      "\n"
     ]
    }
   ],
   "source": [
    "library(fGarch)\n",
    "library(repr)\n",
    "library(forecast)\n",
    "library(aTSA)\n",
    "library(rugarch)\n",
    "library(tseries)\n",
    "library(fDMA)\n",
    "library(quantmod)"
   ]
  },
  {
   "cell_type": "code",
   "execution_count": 2,
   "id": "33c96ddc-91b9-4146-8c48-25da3448d223",
   "metadata": {
    "vscode": {
     "languageId": "r"
    }
   },
   "outputs": [
    {
     "data": {
      "text/html": [
       "<table class=\"dataframe\">\n",
       "<caption>A data.frame: 6 × 4</caption>\n",
       "<thead>\n",
       "\t<tr><th></th><th scope=col>X</th><th scope=col>Symbol</th><th scope=col>Name</th><th scope=col>Sector</th></tr>\n",
       "\t<tr><th></th><th scope=col>&lt;int&gt;</th><th scope=col>&lt;chr&gt;</th><th scope=col>&lt;chr&gt;</th><th scope=col>&lt;chr&gt;</th></tr>\n",
       "</thead>\n",
       "<tbody>\n",
       "\t<tr><th scope=row>1</th><td>1</td><td>MMM </td><td>3M Co.                       </td><td>Industrials           </td></tr>\n",
       "\t<tr><th scope=row>2</th><td>2</td><td>ACE </td><td>ACE Limited                  </td><td>Financials            </td></tr>\n",
       "\t<tr><th scope=row>3</th><td>3</td><td>ABT </td><td>Abbott Laboratories          </td><td>Health Care           </td></tr>\n",
       "\t<tr><th scope=row>4</th><td>4</td><td>ANF </td><td>Abercrombie &amp; Fitch Company A</td><td>Consumer Discretionary</td></tr>\n",
       "\t<tr><th scope=row>5</th><td>5</td><td>ACN </td><td>Accenture                    </td><td>Information Technology</td></tr>\n",
       "\t<tr><th scope=row>6</th><td>6</td><td>ADBE</td><td>Adobe Systems Inc            </td><td>Information Technology</td></tr>\n",
       "</tbody>\n",
       "</table>\n"
      ],
      "text/latex": [
       "A data.frame: 6 × 4\n",
       "\\begin{tabular}{r|llll}\n",
       "  & X & Symbol & Name & Sector\\\\\n",
       "  & <int> & <chr> & <chr> & <chr>\\\\\n",
       "\\hline\n",
       "\t1 & 1 & MMM  & 3M Co.                        & Industrials           \\\\\n",
       "\t2 & 2 & ACE  & ACE Limited                   & Financials            \\\\\n",
       "\t3 & 3 & ABT  & Abbott Laboratories           & Health Care           \\\\\n",
       "\t4 & 4 & ANF  & Abercrombie \\& Fitch Company A & Consumer Discretionary\\\\\n",
       "\t5 & 5 & ACN  & Accenture                     & Information Technology\\\\\n",
       "\t6 & 6 & ADBE & Adobe Systems Inc             & Information Technology\\\\\n",
       "\\end{tabular}\n"
      ],
      "text/markdown": [
       "\n",
       "A data.frame: 6 × 4\n",
       "\n",
       "| <!--/--> | X &lt;int&gt; | Symbol &lt;chr&gt; | Name &lt;chr&gt; | Sector &lt;chr&gt; |\n",
       "|---|---|---|---|---|\n",
       "| 1 | 1 | MMM  | 3M Co.                        | Industrials            |\n",
       "| 2 | 2 | ACE  | ACE Limited                   | Financials             |\n",
       "| 3 | 3 | ABT  | Abbott Laboratories           | Health Care            |\n",
       "| 4 | 4 | ANF  | Abercrombie &amp; Fitch Company A | Consumer Discretionary |\n",
       "| 5 | 5 | ACN  | Accenture                     | Information Technology |\n",
       "| 6 | 6 | ADBE | Adobe Systems Inc             | Information Technology |\n",
       "\n"
      ],
      "text/plain": [
       "  X Symbol Name                          Sector                \n",
       "1 1 MMM    3M Co.                        Industrials           \n",
       "2 2 ACE    ACE Limited                   Financials            \n",
       "3 3 ABT    Abbott Laboratories           Health Care           \n",
       "4 4 ANF    Abercrombie & Fitch Company A Consumer Discretionary\n",
       "5 5 ACN    Accenture                     Information Technology\n",
       "6 6 ADBE   Adobe Systems Inc             Information Technology"
      ]
     },
     "metadata": {},
     "output_type": "display_data"
    }
   ],
   "source": [
    "symbols <- read.csv(\"symbols2.csv\")\n",
    "\n",
    "head(symbols)\n",
    "\n",
    "set.seed(62635431)\n",
    "\n",
    "rows <- sample(x = 1:377, size = 100, replace = F)\n",
    "\n",
    "symbols_download <- as.character(symbols[rows,2])"
   ]
  },
  {
   "cell_type": "code",
   "execution_count": 3,
   "id": "5d88ecb2-7497-477d-8d66-1e9841ad5a6e",
   "metadata": {
    "vscode": {
     "languageId": "r"
    }
   },
   "outputs": [
    {
     "name": "stderr",
     "output_type": "stream",
     "text": [
      "Error downloading data for RRD - Unable to import \"RRD\".\n",
      "HTTP error 404.\n",
      "\n",
      "Error downloading data for BMS - Unable to import \"BMS\".\n",
      "attempt to set an attribute on NULL\n",
      "\n",
      "Error downloading data for BHI - Unable to import \"BHI\".\n",
      "attempt to set an attribute on NULL\n",
      "\n",
      "Error downloading data for FISV - Unable to import \"FISV\".\n",
      "HTTP error 400.\n",
      "\n",
      "Error downloading data for DISCA - Unable to import \"DISCA\".\n",
      "HTTP error 404.\n",
      "\n",
      "Error downloading data for BBBY - Unable to import \"BBBY\".\n",
      "HTTP error 404.\n",
      "\n",
      "Error downloading data for PKI - Unable to import \"PKI\".\n",
      "HTTP error 404.\n",
      "\n",
      "Error downloading data for LLL - Unable to import \"LLL\".\n",
      "HTTP error 404.\n",
      "\n",
      "Error downloading data for LSI - Unable to import \"LSI\".\n",
      "HTTP error 404.\n",
      "\n"
     ]
    }
   ],
   "source": [
    "# Download data for selected period\n",
    "data <- lapply(symbols_download, function(y) {\n",
    "  tryCatch({\n",
    "    getSymbols(y, auto.assign = FALSE, src = \"yahoo\", from = \"2020-01-01\", to = \"2022-10-01\")\n",
    "  }, error = function(e) {\n",
    "    message(paste(\"Error downloading data for\", y, \"-\", e$message))\n",
    "    return(NULL)\n",
    "  })\n",
    "})"
   ]
  },
  {
   "cell_type": "code",
   "execution_count": 4,
   "id": "7f8b1d35-3652-40ac-af77-842cf4c2e282",
   "metadata": {
    "vscode": {
     "languageId": "r"
    }
   },
   "outputs": [],
   "source": [
    "# Keep only closing prices and remove stocks that are not in quantmod package\n",
    "data <- lapply(data, function(y){\n",
    "  y <- y[,4]\n",
    "})\n",
    "\n",
    "data <- data[sapply(data, function(x) !is.null(x))]\n",
    "\n",
    "# Calculate returns from the closing prices\n",
    "returns <- lapply(data, function(y){\n",
    "  na.omit(diff(log(y)))\n",
    "})"
   ]
  },
  {
   "cell_type": "code",
   "execution_count": 5,
   "id": "38a5b739",
   "metadata": {
    "vscode": {
     "languageId": "r"
    }
   },
   "outputs": [
    {
     "data": {
      "image/png": "[encoded data removed]",
      "text/plain": [
       "plot without title"
      ]
     },
     "metadata": {
      "image/png": {
       "height": 420,
       "width": 420
      }
     },
     "output_type": "display_data"
    }
   ],
   "source": [
    "plot.ts(data[[1]])"
   ]
  },
  {
   "cell_type": "markdown",
   "id": "a2b950ba-c004-46c3-9c59-deefdadd969c",
   "metadata": {},
   "source": [
    "### Part 2"
   ]
  },
  {
   "cell_type": "code",
   "execution_count": 6,
   "id": "fa070686-ae50-4353-95ac-415a6a2df6c6",
   "metadata": {
    "vscode": {
     "languageId": "r"
    }
   },
   "outputs": [],
   "source": [
    "# Specify GARCH(1,1) model and estimate it for each stock\n",
    "spec <- ugarchspec(mean.model = list(armaOrder=c(0, 0)), variance.model = list(garchOrder = c(1, 1)))\n",
    "models <- lapply(returns, function(y){\n",
    "                 ugarchfit(spec, y)})\n"
   ]
  },
  {
   "cell_type": "markdown",
   "id": "8d26b217-8fdd-4e79-96b8-f0bb2ad7f94f",
   "metadata": {},
   "source": [
    "### Part 3"
   ]
  },
  {
   "cell_type": "code",
   "execution_count": 7,
   "id": "4562b0a8-8285-4951-b929-0ac4105bba44",
   "metadata": {
    "vscode": {
     "languageId": "r"
    }
   },
   "outputs": [],
   "source": [
    "# Get alpha, beta and alpha+beta coefficients from the results of the model\n",
    "alpha_values <- lapply(models, function(model) coef(model)[[\"alpha1\"]])\n",
    "\n",
    "beta_values <- lapply(models, function(model) coef(model)[[\"beta1\"]])\n",
    "\n",
    "alpha_beta <- unlist(alpha_values) + unlist(beta_values)"
   ]
  },
  {
   "cell_type": "code",
   "execution_count": 8,
   "id": "1c81ba32-e61e-47ca-b814-8c283672d6be",
   "metadata": {
    "vscode": {
     "languageId": "r"
    }
   },
   "outputs": [
    {
     "data": {
      "image/png": "[encoded data removed]",
      "text/plain": [
       "Plot with title \"Histogram of as.numeric(alpha_values)\""
      ]
     },
     "metadata": {
      "image/png": {
       "height": 420,
       "width": 420
      }
     },
     "output_type": "display_data"
    },
    {
     "data": {
      "image/png": "[encoded data removed]",
      "text/plain": [
       "Plot with title \"Histogram of as.numeric(beta_values)\""
      ]
     },
     "metadata": {
      "image/png": {
       "height": 420,
       "width": 420
      }
     },
     "output_type": "display_data"
    },
    {
     "data": {
      "image/png": "[encoded data removed]",
      "text/plain": [
       "Plot with title \"Histogram of as.numeric(alpha_beta)\""
      ]
     },
     "metadata": {
      "image/png": {
       "height": 420,
       "width": 420
      }
     },
     "output_type": "display_data"
    }
   ],
   "source": [
    "# Plot histograms with the coefficients\n",
    "hist(as.numeric(alpha_values), col = \"orange\")\n",
    "\n",
    "hist(as.numeric(beta_values), col = \"yellow\")\n",
    "\n",
    "hist(as.numeric(alpha_beta), col = \"green\")"
   ]
  },
  {
   "cell_type": "markdown",
   "id": "7a97665c-f12a-4b1b-a317-1e9501f62c7b",
   "metadata": {},
   "source": [
    "Histograms show that alpha coefficients have lower values, mostly below 0.3, while beta has relatively high values above 0.6. Sum of alpha and beta is very close to 1, but slightly lower, so it fulfills necessary condition that $\\alpha + \\beta < 1$. Value of alpha being lower than value of beta indicates that shocks to volatility caused by increased conditionall variance are more persistant compared to those caused by returns."
   ]
  },
  {
   "cell_type": "markdown",
   "id": "9f82629b-d2ed-46e3-b4c6-32647613a0a5",
   "metadata": {},
   "source": [
    "### Part 4"
   ]
  },
  {
   "cell_type": "code",
   "execution_count": 9,
   "id": "a0eb655a-7086-456a-a09f-95bf801bc7af",
   "metadata": {
    "vscode": {
     "languageId": "r"
    }
   },
   "outputs": [
    {
     "data": {
      "text/html": [
       "9.56722643195532e-05"
      ],
      "text/latex": [
       "9.56722643195532e-05"
      ],
      "text/markdown": [
       "9.56722643195532e-05"
      ],
      "text/plain": [
       "[1] 9.567226e-05"
      ]
     },
     "metadata": {},
     "output_type": "display_data"
    },
    {
     "data": {
      "text/html": [
       "0.497498086902282"
      ],
      "text/latex": [
       "0.497498086902282"
      ],
      "text/markdown": [
       "0.497498086902282"
      ],
      "text/plain": [
       "[1] 0.4974981"
      ]
     },
     "metadata": {},
     "output_type": "display_data"
    },
    {
     "data": {
      "text/html": [
       "0.269548442542539"
      ],
      "text/latex": [
       "0.269548442542539"
      ],
      "text/markdown": [
       "0.269548442542539"
      ],
      "text/plain": [
       "[1] 0.2695484"
      ]
     },
     "metadata": {},
     "output_type": "display_data"
    },
    {
     "data": {
      "text/html": [
       "0.998276896020118"
      ],
      "text/latex": [
       "0.998276896020118"
      ],
      "text/markdown": [
       "0.998276896020118"
      ],
      "text/plain": [
       "[1] 0.9982769"
      ]
     },
     "metadata": {},
     "output_type": "display_data"
    },
    {
     "data": {
      "text/html": [
       "0.740582414997103"
      ],
      "text/latex": [
       "0.740582414997103"
      ],
      "text/markdown": [
       "0.740582414997103"
      ],
      "text/plain": [
       "[1] 0.7405824"
      ]
     },
     "metadata": {},
     "output_type": "display_data"
    },
    {
     "data": {
      "text/html": [
       "0.998999951095221"
      ],
      "text/latex": [
       "0.998999951095221"
      ],
      "text/markdown": [
       "0.998999951095221"
      ],
      "text/plain": [
       "[1] 0.999"
      ]
     },
     "metadata": {},
     "output_type": "display_data"
    }
   ],
   "source": [
    "# Find minimum and maximum values for each coefficient\n",
    "min(unlist(alpha_values))\n",
    "max(unlist(alpha_values))\n",
    "\n",
    "min(unlist(beta_values))\n",
    "max(unlist(beta_values))\n",
    "\n",
    "min(unlist(alpha_beta))\n",
    "max(unlist(alpha_beta))"
   ]
  },
  {
   "cell_type": "markdown",
   "id": "43e899bb-bc79-4523-96f7-74a3b34ce872",
   "metadata": {},
   "source": [
    "### Part 5"
   ]
  },
  {
   "cell_type": "code",
   "execution_count": 10,
   "id": "a48cd207-35f9-4980-bca4-3f17566989e3",
   "metadata": {
    "vscode": {
     "languageId": "r"
    }
   },
   "outputs": [],
   "source": [
    "# Get median and quantiles for each day\n",
    "medians <- vector()\n",
    "quantiles_95 <- vector()\n",
    "quantiles_05 <- vector()\n",
    "\n",
    "for (i in 1:692){\n",
    "  returns_daily <- vector()\n",
    "  returns_daily <- lapply(models, function(model)model@fit$sigma[i])\n",
    "  medians[i] <- median(unlist(returns_daily))\n",
    "  quantiles_05[i] <- quantile(unlist(returns_daily),probs = 0.05)\n",
    "  quantiles_95[i] <- quantile(unlist(returns_daily),probs = 0.95)\n",
    "}"
   ]
  },
  {
   "cell_type": "code",
   "execution_count": 11,
   "id": "ea741e32-51c8-482f-ae4e-9d8a7105c463",
   "metadata": {
    "vscode": {
     "languageId": "r"
    }
   },
   "outputs": [
    {
     "data": {
      "image/png": "[encoded data removed]",
      "text/plain": [
       "plot without title"
      ]
     },
     "metadata": {
      "image/png": {
       "height": 420,
       "width": 420
      }
     },
     "output_type": "display_data"
    },
    {
     "data": {
      "image/png": "[encoded data removed]",
      "text/plain": [
       "plot without title"
      ]
     },
     "metadata": {
      "image/png": {
       "height": 420,
       "width": 420
      }
     },
     "output_type": "display_data"
    },
    {
     "data": {
      "image/png": "[encoded data removed]",
      "text/plain": [
       "plot without title"
      ]
     },
     "metadata": {
      "image/png": {
       "height": 420,
       "width": 420
      }
     },
     "output_type": "display_data"
    }
   ],
   "source": [
    "# Plot time series of median, 0.05 quantile and 0.95 quantile\n",
    "plot.ts(medians, col = \"blue\")\n",
    "plot.ts(quantiles_05, col = \"green\")\n",
    "plot.ts(quantiles_95, col = \"red\")"
   ]
  },
  {
   "cell_type": "markdown",
   "id": "c422cc68-378a-42a2-a32b-ffe924cf446a",
   "metadata": {},
   "source": [
    "Median, 95 % and 5 % quantile of the returns have approximately the same figure with different magnituted. We can see that all three have the highest volatility during the first 100 days, where it seems to be the most persitant. Then it lowering and there are only smaller spikes in volatility. Especially for 95 % quantile the spikes are relatively higher. "
   ]
  },
  {
   "cell_type": "markdown",
   "id": "db1cc865",
   "metadata": {},
   "source": [
    "## Problem 2"
   ]
  },
  {
   "cell_type": "markdown",
   "id": "34502359",
   "metadata": {},
   "source": [
    "We begin this section with calculating daily mean logarithmic returns"
   ]
  },
  {
   "cell_type": "code",
   "execution_count": 12,
   "id": "5fbbfaaf",
   "metadata": {
    "vscode": {
     "languageId": "r"
    }
   },
   "outputs": [
    {
     "data": {
      "image/png": "[encoded data removed]",
      "text/plain": [
       "plot without title"
      ]
     },
     "metadata": {
      "image/png": {
       "height": 420,
       "width": 420
      }
     },
     "output_type": "display_data"
    }
   ],
   "source": [
    "t <- lengths(returns)[1]\n",
    "\n",
    "daily_returns <- sapply(1:t, function(y){\n",
    "    mean(sapply(returns, '[[', y))\n",
    "})\n",
    "\n",
    "plot.ts(daily_returns)\n"
   ]
  },
  {
   "cell_type": "markdown",
   "id": "058cc71b",
   "metadata": {},
   "source": [
    "Results of the mean log-returns suggest that the volatility of daily returns substantially varies across time in average. That could cause some heterogeneity issues later if not treated correctly. This irregularity is probably caused by the Covid-19 pandemic.\n",
    "\n",
    "To be able to model time series at all, we neeed to ensure the stationarity."
   ]
  },
  {
   "cell_type": "code",
   "execution_count": 13,
   "id": "886f30bd",
   "metadata": {
    "vscode": {
     "languageId": "r"
    }
   },
   "outputs": [
    {
     "name": "stderr",
     "output_type": "stream",
     "text": [
      "Warning message in adf.test(daily_returns):\n",
      "\"p-value smaller than printed p-value\"\n"
     ]
    },
    {
     "data": {
      "text/plain": [
       "\n",
       "\tAugmented Dickey-Fuller Test\n",
       "\n",
       "data:  daily_returns\n",
       "Dickey-Fuller = -7.3568, Lag order = 8, p-value = 0.01\n",
       "alternative hypothesis: stationary\n"
      ]
     },
     "metadata": {},
     "output_type": "display_data"
    }
   ],
   "source": [
    "# Augmented Dickey-Fuller test for stationarity\n",
    "adf.test(daily_returns)"
   ]
  },
  {
   "cell_type": "markdown",
   "id": "faa3e4f3",
   "metadata": {},
   "source": [
    "Since we succesfully rejected the \"H0 = non-stationary\" hypothesis for a standard 95% significance level, the time series proces is stationary. We are thus able to proceed to autocorrelation modelling of daily returns without a need for differencing. To see the correlations and estimate the orders, ACF and PACF functions are constructed."
   ]
  },
  {
   "cell_type": "code",
   "execution_count": 14,
   "id": "242d681e",
   "metadata": {
    "vscode": {
     "languageId": "r"
    }
   },
   "outputs": [
    {
     "data": {
      "image/png": "[encoded data removed]",
      "text/plain": [
       "Plot with title \"Series  daily_returns\""
      ]
     },
     "metadata": {
      "image/png": {
       "height": 480,
       "width": 720
      }
     },
     "output_type": "display_data"
    }
   ],
   "source": [
    "options(repr.plot.width=12, repr.plot.height=8)\n",
    "par(mfrow = c(1, 2))\n",
    "\n",
    "# Autocorrelation function\n",
    "acf(daily_returns)\n",
    "# Partial autocorrelation function\n",
    "pacf(daily_returns)"
   ]
  },
  {
   "cell_type": "markdown",
   "id": "df491d98",
   "metadata": {},
   "source": [
    "The PACF functions indicates that there is a direct influence of lagged values, especially for first 7 or 8 lags, on a current value in our time series. Also the ACF function modelling, in addition, the indirect effect of lagged values reports correlations out of the boundary for at least the first 7 or 8 lags.\n",
    "\n",
    "The implication is that there is serial correlation in our residuals causing past values affect the current one. Since this is problematic for standard econometric modelling, we want to get rid of it while extracting as much information as possible.\n",
    "\n",
    "To remove the dependencies, we estimated ARMA models with several different orders. We evaluated various combinations of order hyperparameters according to the ACF and PACF functions and selected only the best combinations for a presentation.    "
   ]
  },
  {
   "cell_type": "markdown",
   "id": "8e21bc5e",
   "metadata": {},
   "source": [
    "#### a) Automatic ARIMA"
   ]
  },
  {
   "cell_type": "code",
   "execution_count": 15,
   "id": "c16e2127",
   "metadata": {
    "vscode": {
     "languageId": "r"
    }
   },
   "outputs": [
    {
     "data": {
      "text/plain": [
       "Series: daily_returns \n",
       "ARIMA(0,0,2) with zero mean \n",
       "\n",
       "Coefficients:\n",
       "          ma1     ma2\n",
       "      -0.0948  0.1939\n",
       "s.e.   0.0372  0.0379\n",
       "\n",
       "sigma^2 = 0.0003384:  log likelihood = 1783.99\n",
       "AIC=-3561.99   AICc=-3561.95   BIC=-3548.37"
      ]
     },
     "metadata": {},
     "output_type": "display_data"
    },
    {
     "data": {
      "text/plain": [
       "\n",
       "\tBox-Ljung test\n",
       "\n",
       "data:  auto$residuals\n",
       "X-squared = 3.2489, df = 4, p-value = 0.5171\n"
      ]
     },
     "metadata": {},
     "output_type": "display_data"
    },
    {
     "data": {
      "text/plain": [
       "\n",
       "\tBox-Ljung test\n",
       "\n",
       "data:  auto$residuals\n",
       "X-squared = 40.522, df = 8, p-value = 2.561e-06\n"
      ]
     },
     "metadata": {},
     "output_type": "display_data"
    },
    {
     "data": {
      "text/plain": [
       "\n",
       "\tBox-Ljung test\n",
       "\n",
       "data:  auto$residuals\n",
       "X-squared = 51.041, df = 12, p-value = 9.161e-07\n"
      ]
     },
     "metadata": {},
     "output_type": "display_data"
    },
    {
     "data": {
      "image/png": "[encoded data removed]",
      "text/plain": [
       "Plot with title \"PACF\""
      ]
     },
     "metadata": {
      "image/png": {
       "height": 480,
       "width": 720
      }
     },
     "output_type": "display_data"
    }
   ],
   "source": [
    "auto <- auto.arima(daily_returns, max.d = 0) # No need of differencing stationary series\n",
    "auto\n",
    "\n",
    "par(mfrow = c(1, 2))\n",
    "acf(auto$residuals, main = \"ACF\")\n",
    "pacf(auto$residuals, main = \"PACF\")\n",
    "\n",
    "Box.test(auto$residuals, type = \"Ljung-Box\", lag = 4)\n",
    "Box.test(auto$residuals, type = \"Ljung-Box\", lag = 8)\n",
    "Box.test(auto$residuals, type = \"Ljung-Box\", lag = 12)"
   ]
  },
  {
   "cell_type": "markdown",
   "id": "cd6e60be",
   "metadata": {},
   "source": [
    "#### b) AR(7)"
   ]
  },
  {
   "cell_type": "code",
   "execution_count": 16,
   "id": "5e65e36b",
   "metadata": {
    "vscode": {
     "languageId": "r"
    }
   },
   "outputs": [
    {
     "data": {
      "text/plain": [
       "Series: daily_returns \n",
       "ARIMA(7,0,0) with non-zero mean \n",
       "\n",
       "Coefficients:\n",
       "          ar1     ar2      ar3      ar4     ar5      ar6     ar7   mean\n",
       "      -0.0646  0.1608  -0.0026  -0.0776  0.0343  -0.1072  0.1826  0e+00\n",
       "s.e.   0.0374  0.0372   0.0378   0.0376  0.0377   0.0373  0.0374  8e-04\n",
       "\n",
       "sigma^2 = 0.0003196:  log likelihood = 1806.63\n",
       "AIC=-3595.26   AICc=-3594.99   BIC=-3554.4"
      ]
     },
     "metadata": {},
     "output_type": "display_data"
    },
    {
     "data": {
      "text/plain": [
       "\n",
       "\tBox-Ljung test\n",
       "\n",
       "data:  ar_7$residuals\n",
       "X-squared = 0.85828, df = 4, p-value = 0.9305\n"
      ]
     },
     "metadata": {},
     "output_type": "display_data"
    },
    {
     "data": {
      "text/plain": [
       "\n",
       "\tBox-Ljung test\n",
       "\n",
       "data:  ar_7$residuals\n",
       "X-squared = 1.7953, df = 8, p-value = 0.9867\n"
      ]
     },
     "metadata": {},
     "output_type": "display_data"
    },
    {
     "data": {
      "text/plain": [
       "\n",
       "\tBox-Ljung test\n",
       "\n",
       "data:  ar_7$residuals\n",
       "X-squared = 9.9192, df = 12, p-value = 0.623\n"
      ]
     },
     "metadata": {},
     "output_type": "display_data"
    },
    {
     "data": {
      "image/png": "[encoded data removed]",
      "text/plain": [
       "Plot with title \"PACF\""
      ]
     },
     "metadata": {
      "image/png": {
       "height": 480,
       "width": 720
      }
     },
     "output_type": "display_data"
    }
   ],
   "source": [
    "ar_7 <- Arima(daily_returns, order=c(7,0,0))\n",
    "ar_7\n",
    "\n",
    "par(mfrow = c(1, 2))\n",
    "acf(ar_7$residuals, main = \"ACF\")\n",
    "pacf(ar_7$residuals, main = \"PACF\")\n",
    "\n",
    "Box.test(ar_7$residuals, type = \"Ljung-Box\", lag = 4)\n",
    "Box.test(ar_7$residuals, type = \"Ljung-Box\", lag = 8)\n",
    "Box.test(ar_7$residuals, type = \"Ljung-Box\", lag = 12)"
   ]
  },
  {
   "cell_type": "markdown",
   "id": "27632fb3",
   "metadata": {},
   "source": [
    "#### c) MA(8)"
   ]
  },
  {
   "cell_type": "code",
   "execution_count": 17,
   "id": "08462735",
   "metadata": {
    "vscode": {
     "languageId": "r"
    }
   },
   "outputs": [
    {
     "data": {
      "text/plain": [
       "Series: daily_returns \n",
       "ARIMA(0,0,8) with non-zero mean \n",
       "\n",
       "Coefficients:\n",
       "          ma1     ma2     ma3      ma4     ma5      ma6     ma7      ma8   mean\n",
       "      -0.0545  0.1273  0.0151  -0.0993  0.0821  -0.1298  0.1728  -0.0592  1e-04\n",
       "s.e.   0.0381  0.0382  0.0376   0.0378  0.0386   0.0383  0.0375   0.0375  7e-04\n",
       "\n",
       "sigma^2 = 0.0003244:  log likelihood = 1802.04\n",
       "AIC=-3584.07   AICc=-3583.75   BIC=-3538.68"
      ]
     },
     "metadata": {},
     "output_type": "display_data"
    },
    {
     "data": {
      "text/plain": [
       "\n",
       "\tBox-Ljung test\n",
       "\n",
       "data:  ma_8$residuals\n",
       "X-squared = 0.50681, df = 4, p-value = 0.9728\n"
      ]
     },
     "metadata": {},
     "output_type": "display_data"
    },
    {
     "data": {
      "text/plain": [
       "\n",
       "\tBox-Ljung test\n",
       "\n",
       "data:  ma_8$residuals\n",
       "X-squared = 1.4801, df = 8, p-value = 0.993\n"
      ]
     },
     "metadata": {},
     "output_type": "display_data"
    },
    {
     "data": {
      "text/plain": [
       "\n",
       "\tBox-Ljung test\n",
       "\n",
       "data:  ma_8$residuals\n",
       "X-squared = 13.164, df = 12, p-value = 0.3573\n"
      ]
     },
     "metadata": {},
     "output_type": "display_data"
    },
    {
     "data": {
      "image/png": "[encoded data removed]",
      "text/plain": [
       "Plot with title \"PACF\""
      ]
     },
     "metadata": {
      "image/png": {
       "height": 480,
       "width": 720
      }
     },
     "output_type": "display_data"
    }
   ],
   "source": [
    "ma_8 <- Arima(daily_returns, order=c(0,0,8))\n",
    "ma_8\n",
    "\n",
    "par(mfrow = c(1, 2))\n",
    "acf(ma_8$residuals, main = \"ACF\")\n",
    "pacf(ma_8$residuals, main = \"PACF\")\n",
    "\n",
    "Box.test(ma_8$residuals, type = \"Ljung-Box\", lag = 4)\n",
    "Box.test(ma_8$residuals, type = \"Ljung-Box\", lag = 8)\n",
    "Box.test(ma_8$residuals, type = \"Ljung-Box\", lag = 12)"
   ]
  },
  {
   "cell_type": "markdown",
   "id": "8fd110ec",
   "metadata": {},
   "source": [
    "#### d) ARMA(4,1)"
   ]
  },
  {
   "cell_type": "code",
   "execution_count": 18,
   "id": "703d9cc3",
   "metadata": {
    "vscode": {
     "languageId": "r"
    }
   },
   "outputs": [
    {
     "data": {
      "text/plain": [
       "Series: daily_returns \n",
       "ARIMA(4,0,1) with non-zero mean \n",
       "\n",
       "Coefficients:\n",
       "          ar1     ar2     ar3      ar4     ma1   mean\n",
       "      -0.8994  0.1051  0.1281  -0.1305  0.8438  0e+00\n",
       "s.e.   0.0563  0.0512  0.0514   0.0407  0.0443  7e-04\n",
       "\n",
       "sigma^2 = 0.0003211:  log likelihood = 1803.98\n",
       "AIC=-3593.96   AICc=-3593.79   BIC=-3562.18"
      ]
     },
     "metadata": {},
     "output_type": "display_data"
    },
    {
     "data": {
      "text/plain": [
       "\n",
       "\tBox-Ljung test\n",
       "\n",
       "data:  arma_41$residuals\n",
       "X-squared = 1.1475, df = 4, p-value = 0.8867\n"
      ]
     },
     "metadata": {},
     "output_type": "display_data"
    },
    {
     "data": {
      "text/plain": [
       "\n",
       "\tBox-Ljung test\n",
       "\n",
       "data:  arma_41$residuals\n",
       "X-squared = 8.5932, df = 8, p-value = 0.3778\n"
      ]
     },
     "metadata": {},
     "output_type": "display_data"
    },
    {
     "data": {
      "text/plain": [
       "\n",
       "\tBox-Ljung test\n",
       "\n",
       "data:  arma_41$residuals\n",
       "X-squared = 11.07, df = 12, p-value = 0.523\n"
      ]
     },
     "metadata": {},
     "output_type": "display_data"
    },
    {
     "data": {
      "image/png": "[encoded data removed]",
      "text/plain": [
       "Plot with title \"PACF\""
      ]
     },
     "metadata": {
      "image/png": {
       "height": 480,
       "width": 720
      }
     },
     "output_type": "display_data"
    }
   ],
   "source": [
    "arma_41 <- Arima(daily_returns, order=c(4,0,1))\n",
    "arma_41\n",
    "\n",
    "par(mfrow = c(1, 2))\n",
    "acf(arma_41$residuals, main = \"ACF\")\n",
    "pacf(arma_41$residuals, main = \"PACF\")\n",
    "\n",
    "Box.test(arma_41$residuals, type = \"Ljung-Box\", lag = 4)\n",
    "Box.test(arma_41$residuals, type = \"Ljung-Box\", lag = 8)\n",
    "Box.test(arma_41$residuals, type = \"Ljung-Box\", lag = 12)"
   ]
  },
  {
   "cell_type": "markdown",
   "id": "9ca7ba0e",
   "metadata": {},
   "source": [
    "#### e) ARMA(3,3)"
   ]
  },
  {
   "cell_type": "code",
   "execution_count": 19,
   "id": "198eedf9",
   "metadata": {
    "vscode": {
     "languageId": "r"
    }
   },
   "outputs": [
    {
     "data": {
      "text/plain": [
       "Series: daily_returns \n",
       "ARIMA(3,0,3) with non-zero mean \n",
       "\n",
       "Coefficients:\n",
       "          ar1      ar2     ar3     ma1     ma2      ma3   mean\n",
       "      -1.4450  -0.4425  0.1922  1.4008  0.5175  -0.0236  0e+00\n",
       "s.e.   0.2665   0.4587  0.2345  0.2700  0.4331   0.2027  7e-04\n",
       "\n",
       "sigma^2 = 0.0003192:  log likelihood = 1806.58\n",
       "AIC=-3597.15   AICc=-3596.94   BIC=-3560.83"
      ]
     },
     "metadata": {},
     "output_type": "display_data"
    },
    {
     "data": {
      "text/plain": [
       "\n",
       "\tBox-Ljung test\n",
       "\n",
       "data:  arma_33$residuals\n",
       "X-squared = 0.37093, df = 4, p-value = 0.9848\n"
      ]
     },
     "metadata": {},
     "output_type": "display_data"
    },
    {
     "data": {
      "text/plain": [
       "\n",
       "\tBox-Ljung test\n",
       "\n",
       "data:  arma_33$residuals\n",
       "X-squared = 6.4008, df = 8, p-value = 0.6024\n"
      ]
     },
     "metadata": {},
     "output_type": "display_data"
    },
    {
     "data": {
      "text/plain": [
       "\n",
       "\tBox-Ljung test\n",
       "\n",
       "data:  arma_33$residuals\n",
       "X-squared = 9.3635, df = 12, p-value = 0.6716\n"
      ]
     },
     "metadata": {},
     "output_type": "display_data"
    },
    {
     "data": {
      "image/png": "[encoded data removed]",
      "text/plain": [
       "Plot with title \"PACF\""
      ]
     },
     "metadata": {
      "image/png": {
       "height": 480,
       "width": 720
      }
     },
     "output_type": "display_data"
    }
   ],
   "source": [
    "arma_33 <- Arima(daily_returns, order=c(3,0,3))\n",
    "arma_33\n",
    "\n",
    "par(mfrow = c(1, 2))\n",
    "acf(arma_33$residuals, main = \"ACF\")\n",
    "pacf(arma_33$residuals, main = \"PACF\")\n",
    "\n",
    "Box.test(arma_33$residuals, type = \"Ljung-Box\", lag = 4)\n",
    "Box.test(arma_33$residuals, type = \"Ljung-Box\", lag = 8)\n",
    "Box.test(arma_33$residuals, type = \"Ljung-Box\", lag = 12)"
   ]
  },
  {
   "cell_type": "markdown",
   "id": "3ad5b4a0",
   "metadata": {},
   "source": [
    "#### f) ARMA(2,4)"
   ]
  },
  {
   "cell_type": "code",
   "execution_count": 20,
   "id": "383c2963",
   "metadata": {
    "vscode": {
     "languageId": "r"
    }
   },
   "outputs": [
    {
     "data": {
      "text/plain": [
       "Series: daily_returns \n",
       "ARIMA(2,0,4) with non-zero mean \n",
       "\n",
       "Coefficients:\n",
       "          ar1      ar2     ma1     ma2     ma3     ma4   mean\n",
       "      -1.6757  -0.8290  1.6305  0.8879  0.1698  0.0255  0e+00\n",
       "s.e.   0.0563   0.0555  0.0671  0.0896  0.0771  0.0473  7e-04\n",
       "\n",
       "sigma^2 = 0.0003193:  log likelihood = 1806.49\n",
       "AIC=-3596.99   AICc=-3596.78   BIC=-3560.67"
      ]
     },
     "metadata": {},
     "output_type": "display_data"
    },
    {
     "data": {
      "text/plain": [
       "\n",
       "\tBox-Ljung test\n",
       "\n",
       "data:  arma_24$residuals\n",
       "X-squared = 0.3939, df = 4, p-value = 0.983\n"
      ]
     },
     "metadata": {},
     "output_type": "display_data"
    },
    {
     "data": {
      "text/plain": [
       "\n",
       "\tBox-Ljung test\n",
       "\n",
       "data:  arma_24$residuals\n",
       "X-squared = 6.4593, df = 8, p-value = 0.5959\n"
      ]
     },
     "metadata": {},
     "output_type": "display_data"
    },
    {
     "data": {
      "text/plain": [
       "\n",
       "\tBox-Ljung test\n",
       "\n",
       "data:  arma_24$residuals\n",
       "X-squared = 9.4362, df = 12, p-value = 0.6653\n"
      ]
     },
     "metadata": {},
     "output_type": "display_data"
    },
    {
     "data": {
      "image/png": "[encoded data removed]",
      "text/plain": [
       "Plot with title \"PACF\""
      ]
     },
     "metadata": {
      "image/png": {
       "height": 480,
       "width": 720
      }
     },
     "output_type": "display_data"
    }
   ],
   "source": [
    "arma_24 <- Arima(daily_returns, order=c(2,0,4))\n",
    "arma_24\n",
    "\n",
    "par(mfrow = c(1, 2))\n",
    "acf(arma_24$residuals, main = \"ACF\")\n",
    "pacf(arma_24$residuals, main = \"PACF\")\n",
    "\n",
    "Box.test(arma_24$residuals, type = \"Ljung-Box\", lag = 4)\n",
    "Box.test(arma_24$residuals, type = \"Ljung-Box\", lag = 8)\n",
    "Box.test(arma_24$residuals, type = \"Ljung-Box\", lag = 12)"
   ]
  },
  {
   "cell_type": "markdown",
   "id": "7bf65090",
   "metadata": {},
   "source": [
    "The general idea of order selection was to keep our models as simple as possible since there is not enough added value from estimating higher orders given the cost of overfitting and power. Models with lower orders were, therefore, rejected by the Ljung-box test indicating they are not able to remove the dependencies well (We rejected the H0 hypothesis). Moreover, the ACF and PACF functions reveal these dependencies being out of the treshold borders as well. An example of \"not suffitient\" model is a) where we used the function automaticly selecting the order. This is also a nice example of being cautious with using the auto-function.\n",
    "\n",
    "All of the remainign model are able to remove the dependencies well enough through AR, MR, or a combination of both (based on the Ljung-box tests not rejecting the H0 hypothesis). Even though some lags in ACF and PACF still exceed the boarders, they are not significant enough to distort our estimations. Therefore, we have succesfully extracted the information hidden in serial correlation and avoid statistical issues with modelling for all models b) - f).\n",
    "\n",
    "The analyzysis proces we used was to estimate various combinations of AR and ME orders in the ARIMA function (prefering those we suspected from ACF and PACF) and always mainly checking the Ljung-box tests. If the p-values were above 0.05 treshold for all selected lags, a model is used further. We then cross-cheched this selection with the updated ACF and PACF if dependencies are removed. If p-values were below 0.05 for any lag, we proceeded with a more complicated model."
   ]
  },
  {
   "cell_type": "markdown",
   "id": "e69eedad",
   "metadata": {},
   "source": [
    "#### Information criteria "
   ]
  },
  {
   "cell_type": "code",
   "execution_count": 120,
   "id": "e534ae5a",
   "metadata": {
    "vscode": {
     "languageId": "r"
    }
   },
   "outputs": [
    {
     "data": {
      "text/html": [
       "<table class=\"dataframe\">\n",
       "<caption>A matrix: 6 × 2 of type dbl</caption>\n",
       "<thead>\n",
       "\t<tr><th></th><th scope=col>AIC</th><th scope=col>BIC</th></tr>\n",
       "</thead>\n",
       "<tbody>\n",
       "\t<tr><th scope=row>auto</th><td>-3561.842</td><td>-3548.223</td></tr>\n",
       "\t<tr><th scope=row>AR(7)</th><td>-3595.142</td><td>-3554.286</td></tr>\n",
       "\t<tr><th scope=row>MA(8)</th><td>-3583.964</td><td>-3538.568</td></tr>\n",
       "\t<tr><th scope=row>ARMA(4,1)</th><td>-3593.881</td><td>-3562.104</td></tr>\n",
       "\t<tr><th scope=row>ARMA(3,3)</th><td>-3597.082</td><td>-3560.765</td></tr>\n",
       "\t<tr><th scope=row>ARMA(2,4)</th><td>-3596.920</td><td>-3560.604</td></tr>\n",
       "</tbody>\n",
       "</table>\n"
      ],
      "text/latex": [
       "A matrix: 6 × 2 of type dbl\n",
       "\\begin{tabular}{r|ll}\n",
       "  & AIC & BIC\\\\\n",
       "\\hline\n",
       "\tauto & -3561.842 & -3548.223\\\\\n",
       "\tAR(7) & -3595.142 & -3554.286\\\\\n",
       "\tMA(8) & -3583.964 & -3538.568\\\\\n",
       "\tARMA(4,1) & -3593.881 & -3562.104\\\\\n",
       "\tARMA(3,3) & -3597.082 & -3560.765\\\\\n",
       "\tARMA(2,4) & -3596.920 & -3560.604\\\\\n",
       "\\end{tabular}\n"
      ],
      "text/markdown": [
       "\n",
       "A matrix: 6 × 2 of type dbl\n",
       "\n",
       "| <!--/--> | AIC | BIC |\n",
       "|---|---|---|\n",
       "| auto | -3561.842 | -3548.223 |\n",
       "| AR(7) | -3595.142 | -3554.286 |\n",
       "| MA(8) | -3583.964 | -3538.568 |\n",
       "| ARMA(4,1) | -3593.881 | -3562.104 |\n",
       "| ARMA(3,3) | -3597.082 | -3560.765 |\n",
       "| ARMA(2,4) | -3596.920 | -3560.604 |\n",
       "\n"
      ],
      "text/plain": [
       "          AIC       BIC      \n",
       "auto      -3561.842 -3548.223\n",
       "AR(7)     -3595.142 -3554.286\n",
       "MA(8)     -3583.964 -3538.568\n",
       "ARMA(4,1) -3593.881 -3562.104\n",
       "ARMA(3,3) -3597.082 -3560.765\n",
       "ARMA(2,4) -3596.920 -3560.604"
      ]
     },
     "metadata": {},
     "output_type": "display_data"
    }
   ],
   "source": [
    "models <- 6\n",
    "criteria <- matrix(ncol=2, nrow=models)\n",
    "colnames(criteria) <- c('AIC', 'BIC')\n",
    "rownames(criteria) <- c('auto', 'AR(7)', 'MA(8)', 'ARMA(4,1)', 'ARMA(3,3)', 'ARMA(2,4)')\n",
    "\n",
    "criteria[1,1] <- auto$aic\n",
    "criteria[1,2] <- auto$bic\n",
    "criteria[2,1] <- ar_7$aic\n",
    "criteria[2,2] <- ar_7$bic\n",
    "criteria[3,1] <- ma_8$aic\n",
    "criteria[3,2] <- ma_8$bic\n",
    "criteria[4,1] <- arma_41$aic\n",
    "criteria[4,2] <- arma_41$bic\n",
    "criteria[5,1] <- arma_33$aic\n",
    "criteria[5,2] <- arma_33$bic\n",
    "criteria[6,1] <- arma_24$aic\n",
    "criteria[6,2] <- arma_24$bic\n",
    "\n",
    "criteria"
   ]
  },
  {
   "cell_type": "markdown",
   "id": "2c7dd925",
   "metadata": {},
   "source": [
    "Comparing the amounts of information delivered by our models AIC and BIC help us to choose the best candidate out of all eligible models. We decided to choose the ARMA(3,3) process as it minimizes AIC criteria and almost even BIC criteria.  "
   ]
  },
  {
   "cell_type": "markdown",
   "id": "8d694f1f",
   "metadata": {},
   "source": [
    "Finally, the suspicion of heteroskedasticity in our residuals from the first graph of Problem 2 comes into play. We performed the ARCH test to see if volatility changes across time.  "
   ]
  },
  {
   "cell_type": "code",
   "execution_count": 124,
   "id": "bbef2daa",
   "metadata": {
    "vscode": {
     "languageId": "r"
    }
   },
   "outputs": [
    {
     "name": "stdout",
     "output_type": "stream",
     "text": [
      "ARCH heteroscedasticity test for residuals \n",
      "alternative: heteroscedastic \n",
      "\n",
      "Portmanteau-Q test: \n",
      "     order  PQ p.value\n",
      "[1,]     4 397       0\n",
      "[2,]     8 608       0\n",
      "[3,]    12 733       0\n",
      "[4,]    16 751       0\n",
      "[5,]    20 790       0\n",
      "[6,]    24 804       0\n",
      "Lagrange-Multiplier test: \n",
      "     order    LM  p.value\n",
      "[1,]     4 286.3 0.00e+00\n",
      "[2,]     8 129.5 0.00e+00\n",
      "[3,]    12  78.1 3.39e-12\n",
      "[4,]    16  52.6 4.54e-06\n",
      "[5,]    20  38.5 5.14e-03\n",
      "[6,]    24  30.9 1.24e-01\n"
     ]
    },
    {
     "data": {
      "image/png": "[encoded data removed]",
      "text/plain": [
       "plot without title"
      ]
     },
     "metadata": {
      "image/png": {
       "height": 480,
       "width": 720
      }
     },
     "output_type": "display_data"
    }
   ],
   "source": [
    "arma_best <- arima(daily_returns, order=c(3,0,3))\n",
    "arch.test(arma_best)"
   ]
  },
  {
   "cell_type": "markdown",
   "id": "9e46e27c",
   "metadata": {},
   "source": [
    "We found a strong evidence of the volatility being different for various intervals. We would proceed with adding some form of GARCH model into our estimation to model volatility before making predictios. Moreover, we could try to divide our data after the Covid-19 high volatility period since it can distort the remaining time series as well. However, this suggestions are out of scope for this task. "
   ]
  }
 ],
 "metadata": {
  "kernelspec": {
   "display_name": "R",
   "language": "R",
   "name": "ir"
  },
  "language_info": {
   "codemirror_mode": "r",
   "file_extension": ".r",
   "mimetype": "text/x-r-source",
   "name": "R",
   "pygments_lexer": "r",
   "version": "4.3.2"
  }
 },
 "nbformat": 4,
 "nbformat_minor": 5
}
