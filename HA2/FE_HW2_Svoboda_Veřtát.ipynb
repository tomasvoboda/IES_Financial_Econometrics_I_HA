{
 "cells": [
  {
   "cell_type": "markdown",
   "id": "ddc1a1bd-e91e-44fc-9556-adcd8531fc19",
   "metadata": {},
   "source": [
    "# Financial Econometrics: Homework 1\n",
    "#### Kryštof Veřtát, Tomáš Svoboda"
   ]
  },
  {
   "cell_type": "markdown",
   "id": "e92ac8cd-2fa9-4a20-a4ba-46c6e77c0e03",
   "metadata": {},
   "source": [
    "## Problem 1"
   ]
  },
  {
   "cell_type": "markdown",
   "id": "6f3cdb08-a1b0-4f9d-b7c4-2b3f11bd9b0f",
   "metadata": {},
   "source": [
    "### Part 1"
   ]
  },
  {
   "cell_type": "code",
   "execution_count": null,
   "id": "b960cdd9-8f79-428c-8078-4070e47c9d3a",
   "metadata": {},
   "outputs": [],
   "source": [
    "library(fGarch)\n",
    "library(repr)\n",
    "library(forecast)\n",
    "library(aTSA)\n",
    "library(rugarch)\n",
    "library(tseries)\n",
    "library(fDMA)\n",
    "library(quantmod)"
   ]
  },
  {
   "cell_type": "code",
   "execution_count": null,
   "id": "33c96ddc-91b9-4146-8c48-25da3448d223",
   "metadata": {},
   "outputs": [],
   "source": [
    "symbols <- read.csv(\"symbols2.csv\")\n",
    "\n",
    "head(symbols)\n",
    "\n",
    "set.seed(62635431)\n",
    "\n",
    "rows <- sample(x = 1:377, size = 100, replace = F)\n",
    "\n",
    "symbols_download <- as.character(symbols[rows,2])"
   ]
  },
  {
   "cell_type": "code",
   "execution_count": null,
   "id": "5d88ecb2-7497-477d-8d66-1e9841ad5a6e",
   "metadata": {},
   "outputs": [],
   "source": [
    "# Download data for selected period\n",
    "data <- lapply(symbols_download, function(y) {\n",
    "  tryCatch({\n",
    "    getSymbols(y, auto.assign = FALSE, src = \"yahoo\", from = \"2020-01-01\", to = \"2022-10-01\")\n",
    "  }, error = function(e) {\n",
    "    message(paste(\"Error downloading data for\", y, \"-\", e$message))\n",
    "    return(NULL)\n",
    "  })\n",
    "})"
   ]
  },
  {
   "cell_type": "code",
   "execution_count": null,
   "id": "7f8b1d35-3652-40ac-af77-842cf4c2e282",
   "metadata": {},
   "outputs": [],
   "source": [
    "# Keep only closing prices and remove stocks that are not in quantmod package\n",
    "data <- lapply(data, function(y){\n",
    "  y <- y[,4]\n",
    "})\n",
    "\n",
    "data <- data[sapply(data, function(x) !is.null(x))]\n",
    "\n",
    "# Calculate returns from the closing prices\n",
    "returns <- lapply(data, function(y){\n",
    "  na.omit(diff(log(y)))\n",
    "})"
   ]
  },
  {
   "cell_type": "markdown",
   "id": "a2b950ba-c004-46c3-9c59-deefdadd969c",
   "metadata": {},
   "source": [
    "### Part 2"
   ]
  },
  {
   "cell_type": "code",
   "execution_count": null,
   "id": "fa070686-ae50-4353-95ac-415a6a2df6c6",
   "metadata": {},
   "outputs": [],
   "source": [
    "# Specify GARCH(1,1) model and estimate it for each stock\n",
    "spec <- ugarchspec(mean.model = list(armaOrder=c(0, 0)), variance.model = list(garchOrder = c(1, 1)))\n",
    "models <- lapply(returns, function(y){\n",
    "                 ugarchfit(spec, y)})\n"
   ]
  },
  {
   "cell_type": "markdown",
   "id": "8d26b217-8fdd-4e79-96b8-f0bb2ad7f94f",
   "metadata": {},
   "source": [
    "### Part 3"
   ]
  },
  {
   "cell_type": "code",
   "execution_count": null,
   "id": "4562b0a8-8285-4951-b929-0ac4105bba44",
   "metadata": {},
   "outputs": [],
   "source": [
    "# Get alpha, beta and alpha+beta coefficients from the results of the model\n",
    "alpha_values <- lapply(models, function(model) coef(model)[[\"alpha1\"]])\n",
    "\n",
    "beta_values <- lapply(models, function(model) coef(model)[[\"beta1\"]])\n",
    "\n",
    "alpha_beta <- unlist(alpha_values) + unlist(beta_values)"
   ]
  },
  {
   "cell_type": "code",
   "execution_count": null,
   "id": "1c81ba32-e61e-47ca-b814-8c283672d6be",
   "metadata": {},
   "outputs": [],
   "source": [
    "# Plot histograms with the coefficients\n",
    "hist(as.numeric(alpha_values), col = \"orange\")\n",
    "\n",
    "hist(as.numeric(beta_values), col = \"yellow\")\n",
    "\n",
    "hist(as.numeric(alpha_beta), col = \"green\")"
   ]
  },
  {
   "cell_type": "markdown",
   "id": "7a97665c-f12a-4b1b-a317-1e9501f62c7b",
   "metadata": {},
   "source": [
    "Histograms show that alpha coefficients have lower values, mostly below 0.3, while beta has relatively high values above 0.6. Sum of alpha and beta is very close to 1, but slightly lower, so it fulfills necessary condition that $\\alpha + \\beta < 1$. Value of alpha being lower than value of beta indicates that shocks to volatility caused by increased conditionall variance are more persistant compared to those caused by returns."
   ]
  },
  {
   "cell_type": "markdown",
   "id": "9f82629b-d2ed-46e3-b4c6-32647613a0a5",
   "metadata": {},
   "source": [
    "### Part 4"
   ]
  },
  {
   "cell_type": "code",
   "execution_count": null,
   "id": "a0eb655a-7086-456a-a09f-95bf801bc7af",
   "metadata": {},
   "outputs": [],
   "source": [
    "# Find minimum and maximum values for each coefficient\n",
    "min(unlist(alpha_values))\n",
    "max(unlist(alpha_values))\n",
    "\n",
    "min(unlist(beta_values))\n",
    "max(unlist(beta_values))\n",
    "\n",
    "min(unlist(alpha_beta))\n",
    "max(unlist(alpha_beta))"
   ]
  },
  {
   "cell_type": "markdown",
   "id": "43e899bb-bc79-4523-96f7-74a3b34ce872",
   "metadata": {},
   "source": [
    "### Part 5"
   ]
  },
  {
   "cell_type": "code",
   "execution_count": null,
   "id": "a48cd207-35f9-4980-bca4-3f17566989e3",
   "metadata": {},
   "outputs": [],
   "source": [
    "# Get median and quantiles for each day\n",
    "medians <- vector()\n",
    "quantiles_95 <- vector()\n",
    "quantiles_05 <- vector()\n",
    "\n",
    "for (i in 1:692){\n",
    "  returns_daily <- vector()\n",
    "  returns_daily <- lapply(models, function(model)model@fit$sigma[i])\n",
    "  medians[i] <- median(unlist(returns_daily))\n",
    "  quantiles_05[i] <- quantile(unlist(returns_daily),probs = 0.05)\n",
    "  quantiles_95[i] <- quantile(unlist(returns_daily),probs = 0.95)\n",
    "}"
   ]
  },
  {
   "cell_type": "code",
   "execution_count": null,
   "id": "ea741e32-51c8-482f-ae4e-9d8a7105c463",
   "metadata": {},
   "outputs": [],
   "source": [
    "# Plot time series of median, 0.05 quantile and 0.95 quantile\n",
    "plot.ts(medians, col = \"blue\")\n",
    "plot.ts(quantiles_05, col = \"green\")\n",
    "plot.ts(quantiles_95, col = \"red\")"
   ]
  },
  {
   "cell_type": "markdown",
   "id": "c422cc68-378a-42a2-a32b-ffe924cf446a",
   "metadata": {},
   "source": [
    "Median, 95 % and 5 % quantile of the returns have approximately the same figure with different magnituted. We can see that all three have the highest volatility during the first 100 days, where it seems to be the most persitant. Then it lowering and there are only smaller spikes in volatility. Especially for 95 % quantile the spikes are relatively higher. "
   ]
  }
 ],
 "metadata": {
  "kernelspec": {
   "display_name": "R",
   "language": "R",
   "name": "ir"
  },
  "language_info": {
   "codemirror_mode": "r",
   "file_extension": ".r",
   "mimetype": "text/x-r-source",
   "name": "R",
   "pygments_lexer": "r",
   "version": "3.6.1"
  }
 },
 "nbformat": 4,
 "nbformat_minor": 5
}
